{
 "metadata": {
  "language": "Julia",
  "name": "",
  "signature": "sha256:959ae467acbca5755ae98cafa7f047c44004a7ca104f7f1769bdfac14022507e"
 },
 "nbformat": 3,
 "nbformat_minor": 0,
 "worksheets": [
  {
   "cells": [
    {
     "cell_type": "code",
     "collapsed": false,
     "input": [],
     "language": "python",
     "metadata": {},
     "outputs": []
    }
   ],
   "metadata": {}
  }
 ]
}